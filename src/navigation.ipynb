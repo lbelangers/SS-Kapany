{
 "cells": [
  {
   "cell_type": "code",
   "execution_count": 17,
   "metadata": {},
   "outputs": [],
   "source": [
    "import numpy as np\n",
    "import matplotlib.pyplot as plt"
   ]
  },
  {
   "cell_type": "markdown",
   "metadata": {},
   "source": [
    "# Implementation - Modelling Intensity Fluctuations of Rayleigh Backscattered Coherent Light in Single-Mode Fibers"
   ]
  },
  {
   "cell_type": "markdown",
   "metadata": {},
   "source": [
    "Here, we want to implement this equation:\n",
    "$$ E_b (z = 0, k) = E_0 C A \\sum_{i = 1}^N E_i $$\n",
    "where\n",
    "$$ E_i = \\exp(j2\\phi_{i-1}) \\int_{d/2}^{-d/2} \\exp(-\\alpha(l + z_i) - j 2 \\bar{n}_i k l)dl$$\n",
    "and \n",
    "$$ \\phi = \\phi_{i - 1} + \\bar{n}_i kd.$$\n",
    "- $\\alpha$, `α`: power attenuation coefﬁcient of the ﬁber\n",
    "- $E_0$, `E_0`: launched ﬁeld\n",
    "- $C$, `C`: average backscattering ﬁeld coefﬁcient\n",
    "- $A$, `A`: mode ﬁeld effective area"
   ]
  },
  {
   "cell_type": "markdown",
   "metadata": {},
   "source": []
  },
  {
   "cell_type": "code",
   "execution_count": 18,
   "metadata": {},
   "outputs": [],
   "source": [
    "α = 0.02 * np.log(10) / 10 * 1e-3           # db / km\n",
    "E_0 = 0.001 / (np.pi * (8 / 1e3) ** 2)      # V / m (equivalent of 1 mW with a fiber of 8 mm diameter)\n",
    "C = 70                                      # um^2\n",
    "A = 2.13                                    # um^-2"
   ]
  },
  {
   "cell_type": "markdown",
   "metadata": {},
   "source": [
    "We modelise the variation of the refractive index in the fiber as\n",
    "$$ \\bar{n}_i = 1.44 + \\xi_i 10^{-7}. $$\n",
    "in segments of $d = 1$ cm, where $\\xi_i$ is a uniformly distributed random variable in $[0, 1]$. On pose une fibre de 1 km and $\\phi_0 = 0$."
   ]
  },
  {
   "cell_type": "code",
   "execution_count": 19,
   "metadata": {},
   "outputs": [],
   "source": [
    "FIBER_LENGTH = 10e3                 # 10 km\n",
    "AVERAGE_SEGMENT_SIZE = 1e-2         # 1 cm\n",
    "\n",
    "number_of_segments = int(FIBER_LENGTH / AVERAGE_SEGMENT_SIZE)\n",
    "\n",
    "n_bar = 1.44 + 1e-7 * np.random.rand(number_of_segments)\n",
    "delta_d = np.random.rand(number_of_segments) / 10 - 0.05\n",
    "d = (np.ones_like(n_bar) + delta_d) * 1e-2  # segments of 1 cm\n",
    "z = np.cumsum(d)\n",
    "k = 2 * np.pi / 1.55e-6\n",
    "\n",
    "phi_i = np.zeros(number_of_segments + 1)\n",
    "phi_i[1:] = np.cumsum(n_bar) * k * d"
   ]
  },
  {
   "cell_type": "markdown",
   "metadata": {},
   "source": [
    "We can resolve analyticaly the integral to find\n",
    "$$\n",
    "\\int_{-\\mathrm{d} / 2}^{\\mathrm{d} / 2} \\exp \\left(-\\alpha\\left(l+z_i\\right)-j 2 \\bar{n}_i k l\\right) d l = \\frac{2 \\exp(-\\alpha z_i) \\sinh(\\frac{d}{2} (\\alpha + j 2 \\bar{n}_i k))}{\\alpha + j 2 \\bar{n}_i k}\n",
    "$$"
   ]
  },
  {
   "cell_type": "code",
   "execution_count": 20,
   "metadata": {},
   "outputs": [
    {
     "data": {
      "text/plain": [
       "'\\nimport sympy as sp\\n\\nalpha, d, z_i, n_bar_i, k = sp.symbols(\"alpha d, z_i, n_bar_i, k\", constant=True, real=True)\\nl = sp.symbols(\"l\")\\n\\nintegrand = sp.exp(- alpha * (l + z_i) - sp.I * 2 * n_bar_i * k * l)\\nsp.integrate(integrand, (l , -d / 2, d / 2))\\n'"
      ]
     },
     "execution_count": 20,
     "metadata": {},
     "output_type": "execute_result"
    }
   ],
   "source": [
    "'''\n",
    "import sympy as sp\n",
    "\n",
    "alpha, d, z_i, n_bar_i, k = sp.symbols(\"alpha d, z_i, n_bar_i, k\", constant=True, real=True)\n",
    "l = sp.symbols(\"l\")\n",
    "\n",
    "integrand = sp.exp(- alpha * (l + z_i) - sp.I * 2 * n_bar_i * k * l)\n",
    "sp.integrate(integrand, (l , -d / 2, d / 2))\n",
    "'''"
   ]
  },
  {
   "cell_type": "code",
   "execution_count": 21,
   "metadata": {},
   "outputs": [],
   "source": [
    "E_i = np.exp(1j * 2 * phi_i[:-1]) * 2 * np.exp(-α * z) * np.sinh(d / 2 * (α + 1j * 2 * n_bar * k)) / (α + 1j * 2 * n_bar * k)"
   ]
  },
  {
   "cell_type": "markdown",
   "metadata": {},
   "source": [
    "We then simulate the impact of pulse and detection."
   ]
  },
  {
   "cell_type": "code",
   "execution_count": 22,
   "metadata": {},
   "outputs": [],
   "source": [
    "pulse_width_points = 4000         # points\n",
    "\n",
    "E_ip = np.convolve(E_i, np.ones(pulse_width_points))    \n",
    "I_b = E_0 * C * A * np.abs(E_ip) ** 2"
   ]
  },
  {
   "cell_type": "code",
   "execution_count": 25,
   "metadata": {},
   "outputs": [
    {
     "data": {
      "text/plain": [
       "[<matplotlib.lines.Line2D at 0x1166a2ad0>]"
      ]
     },
     "execution_count": 25,
     "metadata": {},
     "output_type": "execute_result"
    },
    {
     "data": {
      "image/png": "[encoded data removed]",
      "text/plain": [
       "<Figure size 640x480 with 1 Axes>"
      ]
     },
     "metadata": {},
     "output_type": "display_data"
    }
   ],
   "source": [
    "plt.plot(phi_i)\n",
    "#plt.xlim(0 ,1000)"
   ]
  }
 ],
 "metadata": {
  "kernelspec": {
   "display_name": ".venv",
   "language": "python",
   "name": "python3"
  },
  "language_info": {
   "codemirror_mode": {
    "name": "ipython",
    "version": 3
   },
   "file_extension": ".py",
   "mimetype": "text/x-python",
   "name": "python",
   "nbconvert_exporter": "python",
   "pygments_lexer": "ipython3",
   "version": "3.11.5"
  }
 },
 "nbformat": 4,
 "nbformat_minor": 2
}
